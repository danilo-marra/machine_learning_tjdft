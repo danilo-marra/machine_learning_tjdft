{
 "cells": [
  {
   "cell_type": "markdown",
   "id": "172a8e50-0de1-4af5-a17c-513b795304d1",
   "metadata": {},
   "source": [
    "# UNIDADE 3:  Regressão Linear\n",
    "\n",
    "3.1 Previsões simples (Regressão linear)\n",
    "\n",
    "3.2 Previsões complexas (Regressão linear múltipla)\n",
    "\n",
    "3.3   Algoritmos de Classificação\n",
    "\n",
    "3.3.1 Métodos simbólicos: Árvore de Decisão\n",
    "\n",
    "3.3.2 Métodos ensemble: Random Forest\n"
   ]
  },
  {
   "attachments": {},
   "cell_type": "markdown",
   "id": "15b41fea-388d-44c1-a2da-b6ca2fe7d711",
   "metadata": {},
   "source": [
    "### Cenário: determinar a associação entre duas (ou mais) informações\n",
    "\n",
    "\n",
    "-   Relação entre <span style=\"color:blue\">índice de felicidade e expectativa de vida</span>\n",
    "-   Relação entre consumo e renda\n",
    "-   Variáveis relacionadas são ditas correlacionadas\n",
    "-   Relação (tendência) positiva ou negativa\n",
    "\n",
    "<blockquote> \n",
    "Exemplo de variáveis que aparentemente <span style=\"color:red\">não</span> são relacionadas:\n",
    "   \n",
    "    -   Relação entre a altura de uma criança e a de seus pais\n",
    "    -   Relação entre cor dos olhos e comprimento dos cabelos\n",
    "</blockquote>\n"
   ]
  },
  {
   "cell_type": "markdown",
   "id": "8d59793c-e34d-4844-b760-6d13b3537a0e",
   "metadata": {},
   "source": [
    "### Para que serve descobrir a relação entre variáveis?"
   ]
  },
  {
   "cell_type": "markdown",
   "id": "6d1410d2-13bb-4abb-bbf6-3128419285af",
   "metadata": {},
   "source": [
    "Para fazer <span style=\"color:red\">previsões sobre o comportamento futuro do fenômeno</span>\n",
    "\n",
    "* Quantificar a força e a direção do relacionamento\n",
    "* Prever uma variável usando o conhecimento sobre a outra variável\n",
    "  * Prever a **população** de uma cidade em 30 *anos*\n",
    "  * Prever o índice de *natalidade* infantil no ano 2050\n",
    "  * Prever a *demanda* futura por habitação\n",
    "  * Prever o índice de *empregabilidade*\n",
    " </br></br>\n",
    "* Para <span style=\"color:red\">simular os efeitos de uma variável sobre outra</span>\n",
    "  * Simular o efeito sobre o **trânsito** de uma cidade em função da elevação do *preço* da gasolina\n"
   ]
  },
  {
   "cell_type": "markdown",
   "id": "10689de7-1fee-4948-affb-c301f36c1008",
   "metadata": {},
   "source": [
    "### Regresão linear\n",
    "\n",
    "* Verificação se duas ou mais variáveis estão relacionadas, como se influenciam.\n",
    "* A regressão linear produz uma previsão numérica, como base em valores conhecidos.\n",
    "\n",
    "\n",
    "<blockquote> \n",
    "<b>Exemplo de regressão</b>: Umidade relativa média do ar sendo influenciada pela temperatura, chuva, vento, radiação solar, sensação térmica. \n",
    "</blockquote>\n",
    "<img src=\"../img/fig2.png\" width=300 />"
   ]
  },
  {
   "cell_type": "markdown",
   "id": "53550ea2-33fd-4dd7-aec4-40ca0650131c",
   "metadata": {},
   "source": [
    "<img src=\"../img/fig1.png\" />"
   ]
  },
  {
   "attachments": {},
   "cell_type": "markdown",
   "id": "2868550d-38b6-409f-be8f-8b99f16c56ef",
   "metadata": {},
   "source": [
    "A **regressão linear** é uma técnica estatística utilizada para modelar e analisar a **relação** entre uma <span style=\"color:red\">variável dependente (resposta)</span> e uma ou mais <span style=\"color:red\">variáveis independentes (preditores)</span>. O objetivo é ajustar uma linha reta (ou hiperplano, no caso de múltiplas variáveis) aos dados observados, de forma a <span style=\"color:blue\">minimizar o erro</span>. \n",
    "\n",
    "Isso permite prever o valor da variável dependente com base nos valores das variáveis independentes, identificando **tendências e relações** entre as variáveis analisadas.\n",
    "\n",
    "\n",
    "$𝑦= 𝑤_0+ 𝑤_1 𝑥_1+𝑤_2 𝑥_2+𝑤_3 𝑥_3+𝑤_4 𝑥_4+…$\n",
    "\n",
    "* Variável **dependente** $(y)$\n",
    "* Vetor de **características** (independentes) $(x_1, x_2,..., x_n)$\n",
    "* As ponderações da função linear $(w_1, w_2,..., w_n)$ são os <span style=\"color:red\">**parâmetros**</span>\n",
    "* A ponderação $w_0$ é a **intersecção**\r\n",
    "\n"
   ]
  },
  {
   "attachments": {},
   "cell_type": "markdown",
   "id": "fb8c9676-d98d-44c0-ab77-6a5c75b1e679",
   "metadata": {},
   "source": [
    "<div style=\"border: 2px solid #4CAF50; padding: 15px; border-radius: 10px; background-color: #DFF2BF; color: #4F8A10; font-family: Arial;\">\n",
    "  <h3 style=\"margin-top: 0;\">Ajustar o modelo significa encontrar um bom conjunto de ponderações das características</h3>\n",
    "  <p>Quanto maior a magnitude da ponderação mais importante é a característica para o modelo.</p>\n",
    "</div>"
   ]
  },
  {
   "cell_type": "markdown",
   "id": "d3bbff05-37b0-418f-aef2-6eda8dff3556",
   "metadata": {},
   "source": [
    "### Exemplo de Regressão Linear\n",
    " Suponha que estamos interessados em entender a relação entre o número de horas de estudo e a nota obtida em um exame:\n",
    "\n",
    "$𝑦= 𝑤_0+ 𝑤_1 𝑥$\n",
    "\n",
    "Onde:\n",
    "\n",
    "* y é a variável dependente (nota no exame)\n",
    "* x é a variável independente (horas de estudo)\n",
    "* $𝑤_0$ é o intercepto (valor de $y$ quando $x = 0$)\n",
    "* $𝑤_1$ é o coeficiente de inclinação (quanto $y$ muda para cada unidade adicionada a $x$)\r\n"
   ]
  },
  {
   "cell_type": "markdown",
   "id": "4fdd8740-7e24-4699-8744-c6a77aae5b67",
   "metadata": {},
   "source": [
    "### Exemplo com Valores\n",
    "\n",
    "Vamos usar alguns dados hipotéticos:\n",
    "\n",
    "| Horas de Estudo (x) | Nota no Exame (y) |\n",
    "|--------------------------|-------------------------|\n",
    "| 1                        | 2                       |\n",
    "| 2                        | 4                       |\n",
    "| 3                        | 5                       |\n",
    "| 4                        | 4                       |\n",
    "| 5                        | 5                       |\n",
    "\n",
    "Suponha que, ao aplicar a regressão linear aos dados acima, obtemos os seguintes valores estimados para os coeficientes:\n",
    "\n",
    "- Intercepto $w_0$: 1.4\n",
    "- Coeficiente de inclinação $w_1$: 0.8\n",
    "\n",
    "Assim, a equação da regressão linear para prever a nota com base nas horas de estudo é:\n",
    "\n",
    "$𝑦 = 1.4 + 0.8 𝑥$"
   ]
  },
  {
   "cell_type": "markdown",
   "id": "f1f8fa9d-84e0-4fe2-a4bf-e5f17597040a",
   "metadata": {},
   "source": [
    "### Previsão com a Equação\n",
    "\n",
    "Podemos usar essa equação para prever a nota no exame para diferentes valores de horas de estudo.\n",
    "\n",
    "Por exemplo:\n",
    "- Para 3 horas de estudo $x = 3$:\n",
    "\n",
    "$𝑦 = 1.4 + 0.8 \\times 3 = 1.4 + 2.4 = 3.8$\n",
    "\n",
    "- Para 6 horas de estudo $x = 6$:\n",
    "\n",
    "$𝑦 = 1.4 + 0.8 \\times 6 = 1.4 + 4.8 = 6.2$\n"
   ]
  },
  {
   "cell_type": "markdown",
   "id": "4add8ee8-ccb8-4b01-a637-4d39e13210e9",
   "metadata": {},
   "source": [
    "<div style=\"border: 2px solid #00008B; padding: 15px; border-radius: 10px; background-color: #00008B; color: #FFFFFF; font-family: Arial;\">\n",
    "  <h1 style=\"margin-top: 0;\"> Predição de Cargas de Trabalho para Juízes</h1>\n",
    "  <p>Descrição: Prever o volume de trabalho em diferentes tribunais com base em fatores como tamanho da população, tipos de casos comuns na região, etc.\n",
    "</p>\n",
    "</div>"
   ]
  },
  {
   "cell_type": "markdown",
   "id": "07c70065-aaf3-45a8-b773-cbfdf32d3d5c",
   "metadata": {},
   "source": [
    "\n",
    "<div style=\"background-color: #f0f8ff; padding: 20px; border-radius: 10px;\">\n",
    "  <ul>\n",
    "    <li>Tamanho da população da região onde o tribunal está localizado (valores real entre 30,000 e 500,000)</li>\n",
    "    <li>Número de juízes ativos no tribunal (valores inteiros entre 1 e 20)</li>\n",
    "    <li>Número de casos recebidos mensalmente (valores inteiros entre 150 e 800)</li>\n",
    "    <li>Distribuição dos tipos de casos comuns na região (valores: criminal, civil, trabalhista)</li>\n",
    "    <li>Taxa de crescimento da população na região (valores reais entre 0.0 e 1.0)</li>\n",
    "    <li>Taxa de criminalidade na região (valores reais entre 0.0 e 1.0)</li>\n",
    "    <li>Média de tempo gasto em cada tipo de caso em meses (número inteiro)</li>\n",
    "    <li>Nível de automação e eficiência do tribunal (valores inteiros entre 0 e 10)</li>\n",
    "    <li>Nível de congestionamento do sistema judicial na região (baixo, médio, alto)</li>\n",
    "    <li>Número de advogados atuando na região (valores inteiros entre 1 e 100)</li>\n",
    "    <li>Número de prédios judiciais na região (valores inteiros entre 1 e 10)</li>\n",
    "    <li>Nível de urbanização da região (baixo, médio, alto)</li>\n",
    "    <li>Nível de educação da população na região (valores reais entre 0.0 e 1.0)</li>\n",
    "    <li>Número de habitantes por juiz (valor fruto da divisão de tamanho da população da região pelo número de juízes ativos no tribunal)</li>\n",
    "    <li>Índice de Desenvolvimento Humano (valores reais entre 0.0 e 1.0)</li>\n",
    "    <li>Média de idade dos  es (entre 35 e 60)</li>\n",
    "    <li><b>Número de casos pendentes atualmente no tribunal (valores inteiros, coluna que não pode ser nula)</b></li>\n",
    "  </ul>\n",
    "</div>\n",
    "\n",
    "\n"
   ]
  },
  {
   "cell_type": "code",
   "execution_count": null,
   "id": "49fc298f-d3c8-4815-9516-776235211fc0",
   "metadata": {
    "id": "d36cbb02-d052-43eb-9157-98be9029c25b"
   },
   "outputs": [],
   "source": [
    "import pandas as pd\n",
    "import numpy as np\n",
    "\n",
    "pd.set_option('display.float_format', '{:.5f}'.format)\n",
    "\n",
    "import streamlit as st\n",
    "import joblib\n",
    "\n",
    "from sklearn.linear_model import LinearRegression\n",
    "from sklearn.preprocessing import PolynomialFeatures\n",
    "from sklearn.preprocessing import MinMaxScaler\n",
    "from sklearn.preprocessing import StandardScaler\n",
    "import scipy.stats as stats\n",
    "\n",
    "import matplotlib.pyplot as plt\n",
    "import seaborn as sns\n",
    "\n",
    "%matplotlib inline"
   ]
  },
  {
   "cell_type": "code",
   "execution_count": null,
   "id": "05b46176-605b-48f3-a491-2f3c45123171",
   "metadata": {},
   "outputs": [],
   "source": [
    "import warnings\n",
    "warnings.filterwarnings('ignore')"
   ]
  },
  {
   "cell_type": "markdown",
   "id": "aad74517-79bb-43ec-8d4c-86782a31a8b2",
   "metadata": {},
   "source": [
    "# Ingestão de Dados"
   ]
  },
  {
   "cell_type": "code",
   "execution_count": null,
   "id": "869f7e17-025a-4d2e-a517-b18350b84532",
   "metadata": {
    "id": "869f7e17-025a-4d2e-a517-b18350b84532"
   },
   "outputs": [],
   "source": [
    "df_servidor = pd.read_csv(\"../data/raw/predicao_cargas_trabalho.csv\")"
   ]
  },
  {
   "cell_type": "code",
   "execution_count": null,
   "id": "1771adf8-4949-451a-a60f-df0b77376549",
   "metadata": {},
   "outputs": [],
   "source": [
    "df_servidor.head(5)"
   ]
  },
  {
   "cell_type": "markdown",
   "id": "28db67fe-bf86-413a-bfd4-aac7b86e4900",
   "metadata": {},
   "source": [
    "<div style=\"background-color: #800000; padding: 20px; border-radius: 10px; color: #ffffff;\">\n",
    "<h1>ANTES VAMOS ENTENDER O CONCEITO DE LINEARIDADE</h1>\n",
    "</div>\n"
   ]
  },
  {
   "cell_type": "markdown",
   "id": "5575595c-dddb-4e74-947c-3e47ef9112b2",
   "metadata": {},
   "source": [
    "<div style=\"background-color: #f0f8ff; padding: 20px; border-radius: 10px;\">\n",
    "As variáveis <b>casos_recebidos</b> e <b>casos_pendentes</b> têm uma correlação positiva, estamos observando uma relação na qual, conforme uma das variáveis aumenta, a outra também tende a aumentar. Em um gráfico de dispersão (scatter plot), cada ponto no gráfico corresponde a um par de valores de dados.\n",
    "</div>\n"
   ]
  },
  {
   "cell_type": "code",
   "execution_count": null,
   "id": "jCgz0TMiLSCy",
   "metadata": {
    "colab": {
     "base_uri": "https://localhost:8080/",
     "height": 617
    },
    "id": "jCgz0TMiLSCy",
    "outputId": "0c650d39-153d-4e62-9a50-8ecaa8edd057"
   },
   "outputs": [],
   "source": [
    "x = df_servidor[\"casos_recebidos\"]\n",
    "y = df_servidor[\"casos_pendentes\"]\n",
    "\n",
    "fig, ax = plt.subplots(figsize=(20, 7))\n",
    "ax.scatter(x, y, color='red', label='Pontos de Dispersão')\n",
    "plt.show()"
   ]
  },
  {
   "cell_type": "code",
   "execution_count": null,
   "id": "YhsJUjbKNJr2",
   "metadata": {
    "colab": {
     "base_uri": "https://localhost:8080/"
    },
    "id": "YhsJUjbKNJr2",
    "outputId": "b0ec57df-2d80-434b-f536-cf69f8dcf7b3"
   },
   "outputs": [],
   "source": [
    "df_temp = df_servidor.copy()\n",
    "df_temp = df_temp.dropna()\n",
    "df_temp.isna().sum()"
   ]
  },
  {
   "cell_type": "markdown",
   "id": "82cee316-ae45-4ba9-a592-e3b6c8153b34",
   "metadata": {},
   "source": [
    "<div style=\"background-color: #f0f8ff; padding: 20px; border-radius: 10px;\">\n",
    "Vamos criar um modelo de regressão linear que será usado para entender a relação entre as variáveis independentes x e a variável dependente y. O método fit ajusta o modelo aos dados fornecidos e calcula os parâmetros $(w_0, w_1)$ . \n",
    "</div>"
   ]
  },
  {
   "cell_type": "code",
   "execution_count": null,
   "id": "FrLPRH-pLSOZ",
   "metadata": {
    "colab": {
     "base_uri": "https://localhost:8080/"
    },
    "id": "FrLPRH-pLSOZ",
    "outputId": "71c658c5-11a3-464e-e711-606430886e43"
   },
   "outputs": [],
   "source": [
    "x = df_temp[\"casos_recebidos\"].values.reshape(-1, 1)  # Transforma 'x' em 2D\n",
    "y = df_temp[\"casos_pendentes\"].values\n",
    "\n",
    "model = LinearRegression()\n",
    "model.fit(x, y)"
   ]
  },
  {
   "cell_type": "code",
   "execution_count": null,
   "id": "a7fcfecf-2361-4ea6-87e0-e28614300b71",
   "metadata": {},
   "outputs": [],
   "source": [
    "print(model.intercept_)\n",
    "print(model.coef_)"
   ]
  },
  {
   "cell_type": "code",
   "execution_count": null,
   "id": "G9kn3rZROFwZ",
   "metadata": {
    "id": "G9kn3rZROFwZ"
   },
   "outputs": [],
   "source": [
    "# Prevendo os valores para todas os valores da variável x\n",
    "y_pred = model.intercept_ + x * model.coef_"
   ]
  },
  {
   "cell_type": "markdown",
   "id": "68539938-bbb3-4ca7-a026-8920ddcf605c",
   "metadata": {},
   "source": [
    "<div style=\"background-color: #f0f8ff; padding: 20px; border-radius: 10px;\">\n",
    "A reta é a representação do modelo ajustado que explica os dados. Esse processo é a essência da regressão linear: encontrar a melhor linha reta que descreve a relação entre as variáveis independentes e a variável dependente, permitindo previsões baseadas nos dados ajustados. \n",
    "</div>"
   ]
  },
  {
   "cell_type": "code",
   "execution_count": null,
   "id": "34841e80-7e8e-49f3-8341-89f2735b21ec",
   "metadata": {
    "colab": {
     "base_uri": "https://localhost:8080/",
     "height": 637
    },
    "id": "39lU1I0SLSU3",
    "outputId": "4c2d7312-fb97-4003-e05c-d5c1157d4f0a"
   },
   "outputs": [],
   "source": [
    "fig, ax = plt.subplots(figsize=(20, 7))\n",
    "ax.plot(x, y_pred, color='blue', label='Linha Ajustada')\n",
    "ax.scatter(x, y, color='red', label='Pontos de Dispersão')\n",
    "ax.set_xlabel('X')\n",
    "ax.set_ylabel('y_pred')\n",
    "plt.show()"
   ]
  },
  {
   "cell_type": "markdown",
   "id": "5f2ec700-5dfa-46d1-8837-2d8b32569392",
   "metadata": {},
   "source": [
    "<div style=\"background-color: #f0f8ff; padding: 20px; border-radius: 10px;\">\n",
    "<h3> O que fazer quando a relação entre as variáveis independentes (preditores) e a variável dependente (resposta) não é linear?</h3>\n",
    "\n",
    "Se a relação entre a variável dependente e as variáveis independentes não parece ser linear, pode-se capturar essa complexidade com uma uma transformação polinomial. Por exemplo, se você observar que os dados se curvam em vez de formar uma linha reta, uma transformação polinomial pode ser útil.\n",
    "\n",
    "A transformação polinomial cria novas features que são potências e produtos das variáveis originais. Isso permite que o modelo capture curvaturas e interações entre as variáveis que um modelo linear simples não conseguiria.\n",
    "\n",
    "</div>"
   ]
  },
  {
   "cell_type": "code",
   "execution_count": null,
   "id": "00IdNATiPmfW",
   "metadata": {
    "colab": {
     "base_uri": "https://localhost:8080/",
     "height": 617
    },
    "id": "00IdNATiPmfW",
    "outputId": "ffd71e27-5c28-4688-d565-075c5225afd8"
   },
   "outputs": [],
   "source": [
    "x = df_temp[\"habitantes_por_juiz\"]\n",
    "y = df_temp[\"num_juizes\"]\n",
    "\n",
    "fig, ax = plt.subplots(figsize=(20, 7))\n",
    "ax.scatter(x, y, color='red', label='Pontos de Dispersão')\n",
    "plt.show()"
   ]
  },
  {
   "cell_type": "code",
   "execution_count": null,
   "id": "0f3b0c5a-3564-417e-887d-0791aa85d2d7",
   "metadata": {},
   "outputs": [],
   "source": [
    "x = df_temp[\"habitantes_por_juiz\"].values.reshape(-1, 1)  # Transforma 'x' em 2D\n",
    "y = df_temp[\"num_juizes\"].values"
   ]
  },
  {
   "cell_type": "code",
   "execution_count": null,
   "id": "c0d1c00f-5930-4ae0-ba20-f01db342f0d1",
   "metadata": {},
   "outputs": [],
   "source": [
    "model = LinearRegression()\n",
    "model.fit(x, y)\n",
    "\n",
    "print(model.intercept_)\n",
    "print(model.coef_)"
   ]
  },
  {
   "cell_type": "code",
   "execution_count": null,
   "id": "9be5d0a8-ab0f-4f16-8728-8ee0183e2960",
   "metadata": {},
   "outputs": [],
   "source": [
    "fig = plt.subplots(figsize=(20, 7))\n",
    "plt.scatter(x, y, color='red', label='Pontos de Dispersão')\n",
    "plt.scatter(x, model.predict(x),color='blue', label='Linha Ajustada')\n",
    "plt.show()"
   ]
  },
  {
   "cell_type": "code",
   "execution_count": null,
   "id": "dnOb8q_lLSY9",
   "metadata": {
    "colab": {
     "base_uri": "https://localhost:8080/"
    },
    "id": "dnOb8q_lLSY9",
    "outputId": "5d9e3231-e97a-448f-de7a-6c60ef2405a7"
   },
   "outputs": [],
   "source": [
    "# Gera novas features (ou variáveis) que são combinações polinomiais das variáveis originais, neste caso até o grau 2\n",
    "features = PolynomialFeatures(degree=2, include_bias=False)\n",
    "x2 = features.fit_transform(x)\n",
    "x2[0]"
   ]
  },
  {
   "cell_type": "code",
   "execution_count": null,
   "id": "rDlUGoCTLSf-",
   "metadata": {
    "colab": {
     "base_uri": "https://localhost:8080/"
    },
    "id": "rDlUGoCTLSf-",
    "outputId": "765adef5-d372-4443-87e4-7695fd420020"
   },
   "outputs": [],
   "source": [
    "model = LinearRegression()\n",
    "model.fit(x2, y)\n",
    "print(model.intercept_)\n",
    "print(model.coef_)"
   ]
  },
  {
   "cell_type": "code",
   "execution_count": null,
   "id": "89Mhsut2LSjb",
   "metadata": {
    "colab": {
     "base_uri": "https://localhost:8080/",
     "height": 617
    },
    "id": "89Mhsut2LSjb",
    "outputId": "21f6f7c8-a958-4901-a5ee-71cd6f53e3cf"
   },
   "outputs": [],
   "source": [
    "fig = plt.subplots(figsize=(20, 7))\n",
    "plt.scatter(x, y, color='red', label='Pontos de Dispersão')\n",
    "plt.scatter(x, model.predict(x2),color='blue', label='Linha Ajustada')\n",
    "plt.show()"
   ]
  },
  {
   "cell_type": "markdown",
   "id": "d4d08067-5833-4fd9-8dcb-b8c0558ef1ba",
   "metadata": {
    "id": "d4d08067-5833-4fd9-8dcb-b8c0558ef1ba"
   },
   "source": [
    "# Análise Exploratória dos Dados (EDA)"
   ]
  },
  {
   "cell_type": "code",
   "execution_count": null,
   "id": "9QelHTNEc6k6",
   "metadata": {
    "id": "9QelHTNEc6k6"
   },
   "outputs": [],
   "source": [
    "sns.pairplot(df_servidor);\n",
    "plt.show()"
   ]
  },
  {
   "cell_type": "code",
   "execution_count": null,
   "id": "gHXKgrf0i81u",
   "metadata": {
    "colab": {
     "base_uri": "https://localhost:8080/"
    },
    "id": "gHXKgrf0i81u",
    "outputId": "88f91c38-4735-48b4-a632-34ab9caebdf4"
   },
   "outputs": [],
   "source": [
    "df_servidor.shape"
   ]
  },
  {
   "cell_type": "code",
   "execution_count": null,
   "id": "ARNXa7MDmI1k",
   "metadata": {
    "colab": {
     "base_uri": "https://localhost:8080/",
     "height": 443
    },
    "id": "ARNXa7MDmI1k",
    "outputId": "890df5b3-a979-4bfb-b918-b5b481a58ea8"
   },
   "outputs": [],
   "source": [
    "df_servidor"
   ]
  },
  {
   "cell_type": "code",
   "execution_count": null,
   "id": "1c50425d-7953-4e52-b9e5-4001e1b66c53",
   "metadata": {
    "colab": {
     "base_uri": "https://localhost:8080/"
    },
    "id": "1c50425d-7953-4e52-b9e5-4001e1b66c53",
    "outputId": "4ec5eaef-8b40-4bf4-ad38-3a9204d7e40f"
   },
   "outputs": [],
   "source": [
    "df_servidor.info()"
   ]
  },
  {
   "cell_type": "code",
   "execution_count": null,
   "id": "ud0swEOLnFzR",
   "metadata": {
    "colab": {
     "base_uri": "https://localhost:8080/",
     "height": 320
    },
    "id": "ud0swEOLnFzR",
    "outputId": "d18c9916-aa44-44ab-802b-ef7412ab3679"
   },
   "outputs": [],
   "source": [
    "df_servidor.describe()"
   ]
  },
  {
   "cell_type": "code",
   "execution_count": null,
   "id": "e5d4bf89-34fc-41aa-91a0-36ab3fcca4db",
   "metadata": {},
   "outputs": [],
   "source": [
    "df_servidor.describe(include=['O'])"
   ]
  },
  {
   "cell_type": "code",
   "execution_count": null,
   "id": "ae7a5f57-4c1f-4072-bd91-82d97aefde50",
   "metadata": {},
   "outputs": [],
   "source": [
    "for col in df_servidor.select_dtypes(include=['object']).columns:\n",
    "    print(f'{col}:\\n{df_servidor[col].value_counts()}\\n')"
   ]
  },
  {
   "cell_type": "code",
   "execution_count": null,
   "id": "ef30dfb8-e12b-412b-9c8b-a135806c2be5",
   "metadata": {
    "colab": {
     "base_uri": "https://localhost:8080/"
    },
    "id": "ef30dfb8-e12b-412b-9c8b-a135806c2be5",
    "outputId": "044a8c19-11d5-490b-a037-e8142f965261"
   },
   "outputs": [],
   "source": [
    "df_servidor.isna().sum()"
   ]
  }
 ],
 "metadata": {
  "colab": {
   "provenance": []
  },
  "kernelspec": {
   "display_name": "Python 3 (ipykernel)",
   "language": "python",
   "name": "python3"
  },
  "language_info": {
   "codemirror_mode": {
    "name": "ipython",
    "version": 3
   },
   "file_extension": ".py",
   "mimetype": "text/x-python",
   "name": "python",
   "nbconvert_exporter": "python",
   "pygments_lexer": "ipython3",
   "version": "3.12.4"
  }
 },
 "nbformat": 4,
 "nbformat_minor": 5
}
